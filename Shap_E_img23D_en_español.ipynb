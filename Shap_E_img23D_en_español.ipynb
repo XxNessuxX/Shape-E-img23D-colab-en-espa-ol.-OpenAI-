{
  "nbformat": 4,
  "nbformat_minor": 0,
  "metadata": {
    "colab": {
      "provenance": [],
      "gpuType": "T4",
      "include_colab_link": true
    },
    "kernelspec": {
      "name": "python3",
      "display_name": "Python 3"
    },
    "language_info": {
      "name": "python"
    },
    "accelerator": "GPU",
    "gpuClass": "standard"
  },
  "cells": [
    {
      "cell_type": "markdown",
      "metadata": {
        "id": "view-in-github",
        "colab_type": "text"
      },
      "source": [
        "<a href=\"https://colab.research.google.com/github/XxNessuxX/Shape-E-img23D-colab-in-spanish.-OpenAI/blob/main/Shap_E_img23D_en_espa%C3%B1ol.ipynb\" target=\"_parent\"><img src=\"https://colab.research.google.com/assets/colab-badge.svg\" alt=\"Open In Colab\"/></a>"
      ]
    },
    {
      "cell_type": "markdown",
      "source": [
        "#<font color=\"#97C145\">**Shape-E img23D en español. (OpenAI)**\n",
        "\n",
        "\n",
        "---\n",
        "\n",
        "\n",
        "#### *Imagen a 3D - Muestra*\n",
        "\n",
        "\n",
        "---\n",
        "\n",
        "\n",
        "##### Cuaderno creado por: [Xx_Nessu_xX](https://fakeyou.com/)\n",
        "##### Repositorio original de [Shape-E](https://github.com/openai/shap-e)"
      ],
      "metadata": {
        "id": "A5nlc1AwGR5_"
      }
    },
    {
      "cell_type": "code",
      "execution_count": null,
      "metadata": {
        "id": "6HXtD-OGFRMm",
        "cellView": "form"
      },
      "outputs": [],
      "source": [
        "#@title <font color=\"#97C145\">**1. Clonar el repositorio oficial e instalar dependencias.**</font>\n",
        "#@markdown ---\n",
        "#@markdown Puede tardar un rato en instalarse, no te preocupes, no se ha quedado pillado.\n",
        "%%capture\n",
        "!git clone https://github.com/openai/shap-e\n",
        "%cd /content/shap-e/\n",
        "!pip install -e ."
      ]
    },
    {
      "cell_type": "code",
      "source": [
        "#@title <font color=\"#97C145\">**2. Sube tu imagen.**\n",
        "#@markdown ---\n",
        "#@markdown Sube una imagen para hacer la conversión de IMG a 3D. (Convenientemente .png transparente para más claridad.)\n",
        "from google.colab import files\n",
        "import os\n",
        "\n",
        "def subir_archivo():\n",
        "    uploaded = files.upload()\n",
        "    for nombre_archivo, contenido_archivo in uploaded.items():\n",
        "        ruta_archivo = os.path.join('/content', nombre_archivo)\n",
        "        with open(ruta_archivo, 'wb') as archivo:\n",
        "            archivo.write(contenido_archivo)\n",
        "        print(f\"Archivo subido: {ruta_archivo}\")\n",
        "\n",
        "subir_archivo()"
      ],
      "metadata": {
        "cellView": "form",
        "id": "WaAJEByP6d-J"
      },
      "execution_count": null,
      "outputs": []
    },
    {
      "cell_type": "code",
      "source": [
        "#@title <font color=\"#97C145\">**3. Ejecutar**\n",
        "#@markdown Remplaza donde pone \"tufoto\" por el nombre del archivo que has subido.\n",
        "import torch\n",
        "\n",
        "from shap_e.diffusion.sample import sample_latents\n",
        "from shap_e.diffusion.gaussian_diffusion import diffusion_from_config\n",
        "from shap_e.models.download import load_model, load_config\n",
        "from shap_e.util.notebooks import create_pan_cameras, decode_latent_images, gif_widget\n",
        "from shap_e.util.image_util import load_image\n",
        "\n",
        "device = torch.device('cuda' if torch.cuda.is_available() else 'cpu')\n",
        "\n",
        "xm = load_model('transmitter', device=device)\n",
        "model = load_model('text300M', device=device)\n",
        "diffusion = diffusion_from_config(load_config('diffusion'))\n",
        "\n",
        "batch_size = 4\n",
        "guidance_scale = 15.0\n",
        "\n",
        "batch_size = 4\n",
        "guidance_scale = 3.0\n",
        "image_directory = \"/content/tufoto.png\" #@param {type:\"string\"}\n",
        "image = load_image(image_directory)\n",
        "\n",
        "latents = sample_latents(\n",
        "    batch_size=batch_size,\n",
        "    model=model,\n",
        "    diffusion=diffusion,\n",
        "    guidance_scale=guidance_scale,\n",
        "    model_kwargs=dict(images=[image] * batch_size),\n",
        "    progress=True,\n",
        "    clip_denoised=True,\n",
        "    use_fp16=True,\n",
        "    use_karras=True,\n",
        "    karras_steps=64,\n",
        "    sigma_min=1e-3,\n",
        "    sigma_max=160,\n",
        "    s_churn=0,\n",
        ")\n",
        "\n",
        "render_mode = 'nerf' # you can change this to 'stf'\n",
        "#\n",
        "size = 128 #@param {type:\"number\"} \n",
        "\n",
        "cameras = create_pan_cameras(size, device)\n",
        "for i, latent in enumerate(latents):\n",
        "    images = decode_latent_images(xm, latent, cameras, rendering_mode=render_mode)\n",
        "    display(gif_widget(images))\n",
        "\n",
        "# Example of saving the latents as meshes.\n",
        "from shap_e.util.notebooks import decode_latent_mesh\n",
        "\n",
        "for i, latent in enumerate(latents):\n",
        "    with open(f'example_mesh_{i}.ply', 'wb') as f:\n",
        "        decode_latent_mesh(xm, latent).tri_mesh().write_ply(f)"
      ],
      "metadata": {
        "id": "epfM7jxxLVZS",
        "cellView": "form"
      },
      "execution_count": null,
      "outputs": []
    }
  ]
}